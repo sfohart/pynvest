{
 "cells": [
  {
   "cell_type": "code",
   "execution_count": 18,
   "id": "2750e87d",
   "metadata": {},
   "outputs": [],
   "source": [
    "#%pip install -r requirements.txt"
   ]
  },
  {
   "cell_type": "code",
   "execution_count": 2,
   "id": "13d2ba4a",
   "metadata": {},
   "outputs": [],
   "source": [
    "import sys\n",
    "from pathlib import Path\n",
    "\n",
    "# Adiciona o diretório raiz do projeto no sys.path\n",
    "root_path = Path().resolve()\n",
    "if str(root_path) not in sys.path:\n",
    "    sys.path.append(str(root_path))"
   ]
  },
  {
   "cell_type": "code",
   "execution_count": 189,
   "id": "e0b45736",
   "metadata": {},
   "outputs": [
    {
     "name": "stderr",
     "output_type": "stream",
     "text": [
      "2025-07-24 11:19:30,831 [logging.log_init] INFO: LOGLEVEL=INFO\n"
     ]
    }
   ],
   "source": [
    "import pandas as pd\n",
    "import os\n",
    "import yfinance as yf\n",
    "import fundamentus as fd"
   ]
  },
  {
   "cell_type": "code",
   "execution_count": 4,
   "id": "6f660d16",
   "metadata": {},
   "outputs": [],
   "source": [
    "dir_dados = 'dados'\n",
    "path_planilha_b3_fii = os.path.join(dir_dados, 'movimentacao-fii-2025-07-23-10-29-05.xlsx')\n",
    "path_planilha_b3_tudo = os.path.join(dir_dados, 'movimentacao-2025-07-23-14-40-14.xlsx') \n",
    "path_fusoes = os.path.join(dir_dados, 'fusoes_desdobramentos.csv')\n"
   ]
  },
  {
   "cell_type": "code",
   "execution_count": 6,
   "id": "c36582b6",
   "metadata": {},
   "outputs": [],
   "source": [
    "from src.preprocessamento import ( carregar_movimentacoes, carregar_fusoes_desdobramentos, ajustar_movimentacoes_por_eventos, parse_valor_br )"
   ]
  },
  {
   "cell_type": "code",
   "execution_count": 132,
   "id": "5efd27a0",
   "metadata": {},
   "outputs": [
    {
     "name": "stdout",
     "output_type": "stream",
     "text": [
      "<class 'pandas.core.frame.DataFrame'>\n",
      "RangeIndex: 5 entries, 0 to 4\n",
      "Data columns (total 6 columns):\n",
      " #   Column           Non-Null Count  Dtype \n",
      "---  ------           --------------  ----- \n",
      " 0   ativo_antigo     5 non-null      object\n",
      " 1   ativo_novo       5 non-null      object\n",
      " 2   tipo_evento      5 non-null      object\n",
      " 3   fator_conversao  5 non-null      object\n",
      " 4   data_vigencia    5 non-null      object\n",
      " 5   fonte_oficial    5 non-null      object\n",
      "dtypes: object(6)\n",
      "memory usage: 372.0+ bytes\n"
     ]
    }
   ],
   "source": [
    "df_fusoes = pd.read_csv(path_fusoes)\n",
    "df_fusoes.info()"
   ]
  },
  {
   "cell_type": "markdown",
   "id": "14e52204",
   "metadata": {},
   "source": [
    "# Testando a carga de uma planilha apenas com FII"
   ]
  },
  {
   "cell_type": "code",
   "execution_count": 151,
   "id": "624e537e",
   "metadata": {},
   "outputs": [
    {
     "name": "stdout",
     "output_type": "stream",
     "text": [
      "<class 'pandas.core.frame.DataFrame'>\n",
      "RangeIndex: 60 entries, 0 to 59\n",
      "Data columns (total 8 columns):\n",
      " #   Column             Non-Null Count  Dtype \n",
      "---  ------             --------------  ----- \n",
      " 0   Entrada/Saída      60 non-null     object\n",
      " 1   Data               60 non-null     object\n",
      " 2   Movimentação       60 non-null     object\n",
      " 3   Produto            60 non-null     object\n",
      " 4   Instituição        60 non-null     object\n",
      " 5   Quantidade         60 non-null     object\n",
      " 6   Preço unitário     60 non-null     object\n",
      " 7   Valor da Operação  60 non-null     object\n",
      "dtypes: object(8)\n",
      "memory usage: 3.9+ KB\n"
     ]
    },
    {
     "name": "stderr",
     "output_type": "stream",
     "text": [
      "c:\\Projetos\\pynvest\\.venv\\Lib\\site-packages\\openpyxl\\styles\\stylesheet.py:237: UserWarning: Workbook contains no default style, apply openpyxl's default\n",
      "  warn(\"Workbook contains no default style, apply openpyxl's default\")\n"
     ]
    }
   ],
   "source": [
    "df_fii = pd.read_excel(path_planilha_b3_fii, dtype=str)\n",
    "\n",
    "df_fii.info()"
   ]
  },
  {
   "cell_type": "code",
   "execution_count": 152,
   "id": "393e02b2",
   "metadata": {},
   "outputs": [
    {
     "data": {
      "text/plain": [
       "array(['MXRF11 - MAXI RENDA FDO INV IMOB - FII',\n",
       "       'BCFF11 - FII - FII BTG PACTUAL FUNDO DE FUNDOS RESPONS LTDA',\n",
       "       'VGHF11 - VALORA HEDGE FUND FUNDO DE INVESTIMENTO IMOBILIARIO - FII',\n",
       "       'XPML11 - XP MALLS FDO INV IMOB FII',\n",
       "       'VISC11 - VINCI SHOPPING CENTERS FDO INVEST IMOB - FII',\n",
       "       'BCFF11 - FDO INV IMOB - FII BTG PACTUAL FUNDO DE FUNDOS',\n",
       "       'MXRF11 - MAXI RENDA FUNDO DE INVESTIMENTO IMOBILIARIO - FII',\n",
       "       'RBVA11 - FDO INV IMOB RIO BRAVO RENDA VAREJO - FII',\n",
       "       'XPLG11 - XP LOG FUNDO DE INVESTIMENTO IMOBILIARIO FII',\n",
       "       'BTLG11 - BTG PACTUAL LOGISTICA FUNDO DE INVESTIMENTO IMOBILIARIO',\n",
       "       'HGLG11 - CSHG LOGÍSTICA FDO INV IMOB - FII',\n",
       "       'KNRI11 - KINEA RENDA IMOBILIÁRIA FDO INV IMOB - FII',\n",
       "       'HCTR11 - HECTARE CE - FDO INV IMOB',\n",
       "       'HCTR11 - HECTARE CE - FUNDO DE INVESTIMENTO IMOBILIÁRIO'],\n",
       "      dtype=object)"
      ]
     },
     "execution_count": 152,
     "metadata": {},
     "output_type": "execute_result"
    }
   ],
   "source": [
    "df_fii['Produto'].unique()"
   ]
  },
  {
   "cell_type": "code",
   "execution_count": 101,
   "id": "76bc4039",
   "metadata": {},
   "outputs": [],
   "source": [
    "\n",
    "def classificar_ativo_b3(row):\n",
    "    ticker = str(row['Ticker']).upper()\n",
    "    descricao = str(row['Descrição']).upper()\n",
    "\n",
    "    # Fundos Imobiliários (FII) - mais variações comuns na descrição\n",
    "    if ticker.endswith('11') and any(\n",
    "        x in descricao for x in ['FII', 'FDO INV IMOB', 'FUNDO DE INVESTIMENTO IMOB', 'IMOBILIÁRIO']):\n",
    "        return 'FII'\n",
    "\n",
    "    # ETFs\n",
    "    if ticker.endswith('11') and any(x in descricao for x in ['ETF', 'ÍNDICE']):\n",
    "        return 'ETF'\n",
    "\n",
    "    # BDRs\n",
    "    if ticker.endswith(('34', '35', '32', '39')) or 'BDR' in descricao:\n",
    "        return 'BDR'\n",
    "\n",
    "    # Ações ON/PN\n",
    "    if ticker.endswith('3'):\n",
    "        return 'Ação ON'\n",
    "    if ticker.endswith('4'):\n",
    "        return 'Ação PN'\n",
    "\n",
    "    # Units\n",
    "    if ticker.endswith('11') and any(x in descricao for x in ['UNIT', 'UNITS']):\n",
    "        return 'Unit'\n",
    "\n",
    "    # Opções\n",
    "    if len(ticker) >= 5 and ticker[-1].isdigit() and ticker[-2].isalpha():\n",
    "        return 'Opção'\n",
    "\n",
    "    # Renda Fixa Pública\n",
    "    if any(p in descricao for p in ['TESOURO', 'LTN', 'NTN', 'LFT']):\n",
    "        return 'Tesouro Direto'\n",
    "\n",
    "    # Renda Fixa Privada\n",
    "    if any(p in descricao for p in ['DEBENTURE', 'CRI', 'CRA', 'CDB']):\n",
    "        return 'Renda Fixa Privada'\n",
    "\n",
    "    # Fallback\n",
    "    return 'Outro'"
   ]
  },
  {
   "cell_type": "code",
   "execution_count": 102,
   "id": "8b9d1a70",
   "metadata": {},
   "outputs": [],
   "source": [
    "def extrair_e_classificar_ticker(df):\n",
    "    # Extrai ticker e descrição\n",
    "    if 'Produto' in df.columns:\n",
    "        df[['Ticker', 'Descrição']] = df['Produto'].str.split(' - ', n=1, expand=True)\n",
    "        df['Ticker'] = df['Ticker'].str.strip().str.upper()\n",
    "        df['Descrição'] = df['Descrição'].str.strip().str.upper()\n",
    "        pos = df.columns.get_loc('Produto')\n",
    "        df.drop('Produto', axis=1, inplace=True)\n",
    "        df.insert(pos, 'Descrição', df.pop('Descrição'))\n",
    "        df.insert(pos, 'Ticker', df.pop('Ticker'))\n",
    "\n",
    "    # Classificação única\n",
    "    df_class = df.groupby('Ticker').first().reset_index()\n",
    "    df_class['Tipo de Ativo'] = df_class.apply(classificar_ativo_b3, axis=1)\n",
    "\n",
    "    # Merge final\n",
    "    df = df.merge(df_class[['Ticker', 'Tipo de Ativo']], on='Ticker', how='left')\n",
    "    return df"
   ]
  },
  {
   "cell_type": "code",
   "execution_count": 153,
   "id": "482191b3",
   "metadata": {},
   "outputs": [],
   "source": [
    "def preprocessar_dados_b3(df: pd.DataFrame) -> pd.DataFrame:\n",
    "    colunas_monetarias = ['Valor da Operação', 'Preço unitário','Quantidade']\n",
    "    if all(col in df.columns for col in colunas_monetarias):\n",
    "        for col in colunas_monetarias:\n",
    "            # Remove só pontos que são separadores de milhar (antes da vírgula)\n",
    "            df[col] = df[col].str.strip().str.replace('\\xa0', '')\n",
    "            df[col] = df[col].str.replace(r'\\.(?=\\d{3}(?:\\.|,|$))', '', regex=True)  # remove pontos de milhar\n",
    "            df[col] = df[col].str.replace(',', '.')  # substitui vírgula decimal para ponto decimal\n",
    "            df[col] = pd.to_numeric(df[col], errors='coerce').fillna(0)\n",
    "\n",
    "    df = extrair_e_classificar_ticker(df)\n",
    "\n",
    "    colunas_inferencia_tipo_ativo = ['Ticker', 'Descrição']\n",
    "    if all(col in df.columns for col in colunas_inferencia_tipo_ativo):\n",
    "        df['Tipo de Ativo'] = df.apply(classificar_ativo_b3, axis=1)\n",
    "\n",
    "    # Define quais tipos são considerados compra ou venda\n",
    "    tipos_compra_venda = [\n",
    "        'Compra',\n",
    "        'Venda',\n",
    "        'Transferência - Liquidação',\n",
    "        # esses dois aqui abaixo não aparecem, quando filtramos por \"Compra/Venda\"\n",
    "        # ao puxar um extrato de movimentações na B3\n",
    "        # 'Leilão de Fração',\n",
    "        # 'Resgate',\n",
    "    ]\n",
    "\n",
    "    df['Compra/Venda'] = df['Movimentação'].isin(tipos_compra_venda)\n",
    "\n",
    "    df.info()\n",
    "    return df"
   ]
  },
  {
   "cell_type": "code",
   "execution_count": 154,
   "id": "b0dcf5e1",
   "metadata": {},
   "outputs": [
    {
     "name": "stdout",
     "output_type": "stream",
     "text": [
      "<class 'pandas.core.frame.DataFrame'>\n",
      "RangeIndex: 60 entries, 0 to 59\n",
      "Data columns (total 11 columns):\n",
      " #   Column             Non-Null Count  Dtype  \n",
      "---  ------             --------------  -----  \n",
      " 0   Entrada/Saída      60 non-null     object \n",
      " 1   Data               60 non-null     object \n",
      " 2   Movimentação       60 non-null     object \n",
      " 3   Ticker             60 non-null     object \n",
      " 4   Descrição          60 non-null     object \n",
      " 5   Instituição        60 non-null     object \n",
      " 6   Quantidade         60 non-null     int64  \n",
      " 7   Preço unitário     60 non-null     float64\n",
      " 8   Valor da Operação  60 non-null     float64\n",
      " 9   Tipo de Ativo      60 non-null     object \n",
      " 10  Compra/Venda       60 non-null     bool   \n",
      "dtypes: bool(1), float64(2), int64(1), object(7)\n",
      "memory usage: 4.9+ KB\n"
     ]
    }
   ],
   "source": [
    "df_fii = preprocessar_dados_b3(df_fii)\n",
    "df_fii = df_fii.sort_values(by=['Ticker'], ascending=True)"
   ]
  },
  {
   "cell_type": "markdown",
   "id": "3faabc70",
   "metadata": {},
   "source": [
    "## Validando o resultado"
   ]
  },
  {
   "cell_type": "code",
   "execution_count": 179,
   "id": "0d55b249",
   "metadata": {},
   "outputs": [
    {
     "data": {
      "text/plain": [
       "array(['BCFF11', 'BTLG11', 'HCTR11', 'HGLG11', 'KNRI11', 'MXRF11',\n",
       "       'RBVA11', 'VGHF11', 'VISC11', 'XPLG11', 'XPML11'], dtype=object)"
      ]
     },
     "execution_count": 179,
     "metadata": {},
     "output_type": "execute_result"
    }
   ],
   "source": [
    "df_fii[df_fii['Ticker'].str.endswith('11')]['Ticker'].unique()"
   ]
  },
  {
   "cell_type": "code",
   "execution_count": 155,
   "id": "f141f1a1",
   "metadata": {},
   "outputs": [
    {
     "data": {
      "text/html": [
       "<div>\n",
       "<style scoped>\n",
       "    .dataframe tbody tr th:only-of-type {\n",
       "        vertical-align: middle;\n",
       "    }\n",
       "\n",
       "    .dataframe tbody tr th {\n",
       "        vertical-align: top;\n",
       "    }\n",
       "\n",
       "    .dataframe thead th {\n",
       "        text-align: right;\n",
       "    }\n",
       "</style>\n",
       "<table border=\"1\" class=\"dataframe\">\n",
       "  <thead>\n",
       "    <tr style=\"text-align: right;\">\n",
       "      <th></th>\n",
       "      <th>Ticker</th>\n",
       "      <th>Descrição</th>\n",
       "      <th>Tipo de Ativo</th>\n",
       "    </tr>\n",
       "  </thead>\n",
       "  <tbody>\n",
       "    <tr>\n",
       "      <th>10</th>\n",
       "      <td>BCFF11</td>\n",
       "      <td>FDO INV IMOB - FII BTG PACTUAL FUNDO DE FUNDOS</td>\n",
       "      <td>FII</td>\n",
       "    </tr>\n",
       "    <tr>\n",
       "      <th>5</th>\n",
       "      <td>BCFF11</td>\n",
       "      <td>FII - FII BTG PACTUAL FUNDO DE FUNDOS RESPONS ...</td>\n",
       "      <td>FII</td>\n",
       "    </tr>\n",
       "    <tr>\n",
       "      <th>33</th>\n",
       "      <td>BTLG11</td>\n",
       "      <td>BTG PACTUAL LOGISTICA FUNDO DE INVESTIMENTO IM...</td>\n",
       "      <td>FII</td>\n",
       "    </tr>\n",
       "    <tr>\n",
       "      <th>48</th>\n",
       "      <td>HCTR11</td>\n",
       "      <td>HECTARE CE - FDO INV IMOB</td>\n",
       "      <td>FII</td>\n",
       "    </tr>\n",
       "    <tr>\n",
       "      <th>53</th>\n",
       "      <td>HCTR11</td>\n",
       "      <td>HECTARE CE - FUNDO DE INVESTIMENTO IMOBILIÁRIO</td>\n",
       "      <td>FII</td>\n",
       "    </tr>\n",
       "    <tr>\n",
       "      <th>37</th>\n",
       "      <td>HGLG11</td>\n",
       "      <td>CSHG LOGÍSTICA FDO INV IMOB - FII</td>\n",
       "      <td>FII</td>\n",
       "    </tr>\n",
       "    <tr>\n",
       "      <th>42</th>\n",
       "      <td>KNRI11</td>\n",
       "      <td>KINEA RENDA IMOBILIÁRIA FDO INV IMOB - FII</td>\n",
       "      <td>FII</td>\n",
       "    </tr>\n",
       "    <tr>\n",
       "      <th>31</th>\n",
       "      <td>MXRF11</td>\n",
       "      <td>MAXI RENDA FUNDO DE INVESTIMENTO IMOBILIARIO -...</td>\n",
       "      <td>FII</td>\n",
       "    </tr>\n",
       "    <tr>\n",
       "      <th>0</th>\n",
       "      <td>MXRF11</td>\n",
       "      <td>MAXI RENDA FDO INV IMOB - FII</td>\n",
       "      <td>FII</td>\n",
       "    </tr>\n",
       "    <tr>\n",
       "      <th>24</th>\n",
       "      <td>RBVA11</td>\n",
       "      <td>FDO INV IMOB RIO BRAVO RENDA VAREJO - FII</td>\n",
       "      <td>FII</td>\n",
       "    </tr>\n",
       "    <tr>\n",
       "      <th>3</th>\n",
       "      <td>VGHF11</td>\n",
       "      <td>VALORA HEDGE FUND FUNDO DE INVESTIMENTO IMOBIL...</td>\n",
       "      <td>FII</td>\n",
       "    </tr>\n",
       "    <tr>\n",
       "      <th>8</th>\n",
       "      <td>VISC11</td>\n",
       "      <td>VINCI SHOPPING CENTERS FDO INVEST IMOB - FII</td>\n",
       "      <td>FII</td>\n",
       "    </tr>\n",
       "    <tr>\n",
       "      <th>57</th>\n",
       "      <td>XPLG11</td>\n",
       "      <td>XP LOG FUNDO DE INVESTIMENTO IMOBILIARIO FII</td>\n",
       "      <td>FII</td>\n",
       "    </tr>\n",
       "    <tr>\n",
       "      <th>9</th>\n",
       "      <td>XPML11</td>\n",
       "      <td>XP MALLS FDO INV IMOB FII</td>\n",
       "      <td>FII</td>\n",
       "    </tr>\n",
       "  </tbody>\n",
       "</table>\n",
       "</div>"
      ],
      "text/plain": [
       "    Ticker                                          Descrição Tipo de Ativo\n",
       "10  BCFF11     FDO INV IMOB - FII BTG PACTUAL FUNDO DE FUNDOS           FII\n",
       "5   BCFF11  FII - FII BTG PACTUAL FUNDO DE FUNDOS RESPONS ...           FII\n",
       "33  BTLG11  BTG PACTUAL LOGISTICA FUNDO DE INVESTIMENTO IM...           FII\n",
       "48  HCTR11                          HECTARE CE - FDO INV IMOB           FII\n",
       "53  HCTR11     HECTARE CE - FUNDO DE INVESTIMENTO IMOBILIÁRIO           FII\n",
       "37  HGLG11                  CSHG LOGÍSTICA FDO INV IMOB - FII           FII\n",
       "42  KNRI11         KINEA RENDA IMOBILIÁRIA FDO INV IMOB - FII           FII\n",
       "31  MXRF11  MAXI RENDA FUNDO DE INVESTIMENTO IMOBILIARIO -...           FII\n",
       "0   MXRF11                      MAXI RENDA FDO INV IMOB - FII           FII\n",
       "24  RBVA11          FDO INV IMOB RIO BRAVO RENDA VAREJO - FII           FII\n",
       "3   VGHF11  VALORA HEDGE FUND FUNDO DE INVESTIMENTO IMOBIL...           FII\n",
       "8   VISC11       VINCI SHOPPING CENTERS FDO INVEST IMOB - FII           FII\n",
       "57  XPLG11       XP LOG FUNDO DE INVESTIMENTO IMOBILIARIO FII           FII\n",
       "9   XPML11                          XP MALLS FDO INV IMOB FII           FII"
      ]
     },
     "execution_count": 155,
     "metadata": {},
     "output_type": "execute_result"
    }
   ],
   "source": [
    "df_fii[['Ticker','Descrição','Tipo de Ativo']].drop_duplicates()\n"
   ]
  },
  {
   "cell_type": "code",
   "execution_count": 156,
   "id": "2c73f57e",
   "metadata": {},
   "outputs": [
    {
     "data": {
      "text/plain": [
       "array(['BCFF11', 'BTLG11', 'HCTR11', 'HGLG11', 'KNRI11', 'MXRF11',\n",
       "       'RBVA11', 'VGHF11', 'VISC11', 'XPLG11', 'XPML11'], dtype=object)"
      ]
     },
     "execution_count": 156,
     "metadata": {},
     "output_type": "execute_result"
    }
   ],
   "source": [
    "df_fii['Ticker'].unique()"
   ]
  },
  {
   "cell_type": "code",
   "execution_count": 191,
   "id": "4d17e8d2",
   "metadata": {},
   "outputs": [
    {
     "name": "stderr",
     "output_type": "stream",
     "text": [
      "2025-07-24 11:21:52,214 [detalhes.get_papel] INFO: detalhes: call: get..._papel()\n"
     ]
    },
    {
     "name": "stdout",
     "output_type": "stream",
     "text": [
      "None\n"
     ]
    }
   ],
   "source": [
    "\n",
    "fd_ticker = fd.get_papel('HCTR11')\n",
    "print(fd_ticker)"
   ]
  },
  {
   "cell_type": "code",
   "execution_count": 157,
   "id": "85559226",
   "metadata": {},
   "outputs": [
    {
     "data": {
      "text/plain": [
       "np.float64(44735.06)"
      ]
     },
     "execution_count": 157,
     "metadata": {},
     "output_type": "execute_result"
    }
   ],
   "source": [
    "df_fii['Valor da Operação'].sum()"
   ]
  },
  {
   "cell_type": "code",
   "execution_count": 158,
   "id": "e478a031",
   "metadata": {},
   "outputs": [
    {
     "data": {
      "text/plain": [
       "np.float64(9197.33)"
      ]
     },
     "execution_count": 158,
     "metadata": {},
     "output_type": "execute_result"
    }
   ],
   "source": [
    "df_teste_valor_fii = df_fii[df_fii['Ticker'].isin(['BCFF11','BTHF11'])]\n",
    "df_teste_valor_fii['Valor da Operação'].sum()"
   ]
  },
  {
   "cell_type": "code",
   "execution_count": 159,
   "id": "81ce52e7",
   "metadata": {},
   "outputs": [
    {
     "data": {
      "text/plain": [
       "(11, 11)"
      ]
     },
     "execution_count": 159,
     "metadata": {},
     "output_type": "execute_result"
    }
   ],
   "source": [
    "df_teste_valor_fii.shape"
   ]
  },
  {
   "cell_type": "code",
   "execution_count": 160,
   "id": "897421fd",
   "metadata": {},
   "outputs": [
    {
     "data": {
      "text/plain": [
       "array(['Transferência - Liquidação'], dtype=object)"
      ]
     },
     "execution_count": 160,
     "metadata": {},
     "output_type": "execute_result"
    }
   ],
   "source": [
    "df_teste_valor_fii['Movimentação'].unique()"
   ]
  },
  {
   "cell_type": "markdown",
   "id": "83e27394",
   "metadata": {},
   "source": [
    "# Testando a carga da planilha com todos os dados"
   ]
  },
  {
   "cell_type": "code",
   "execution_count": 186,
   "id": "c2f86528",
   "metadata": {},
   "outputs": [
    {
     "name": "stdout",
     "output_type": "stream",
     "text": [
      "<class 'pandas.core.frame.DataFrame'>\n",
      "RangeIndex: 363 entries, 0 to 362\n",
      "Data columns (total 8 columns):\n",
      " #   Column             Non-Null Count  Dtype \n",
      "---  ------             --------------  ----- \n",
      " 0   Entrada/Saída      363 non-null    object\n",
      " 1   Data               363 non-null    object\n",
      " 2   Movimentação       363 non-null    object\n",
      " 3   Produto            363 non-null    object\n",
      " 4   Instituição        363 non-null    object\n",
      " 5   Quantidade         363 non-null    object\n",
      " 6   Preço unitário     363 non-null    object\n",
      " 7   Valor da Operação  363 non-null    object\n",
      "dtypes: object(8)\n",
      "memory usage: 22.8+ KB\n"
     ]
    },
    {
     "name": "stderr",
     "output_type": "stream",
     "text": [
      "c:\\Projetos\\pynvest\\.venv\\Lib\\site-packages\\openpyxl\\styles\\stylesheet.py:237: UserWarning: Workbook contains no default style, apply openpyxl's default\n",
      "  warn(\"Workbook contains no default style, apply openpyxl's default\")\n"
     ]
    }
   ],
   "source": [
    "df_tudo = pd.read_excel(path_planilha_b3_tudo, dtype=str)\n",
    "df_tudo.info()"
   ]
  },
  {
   "cell_type": "code",
   "execution_count": 188,
   "id": "b29c4212",
   "metadata": {},
   "outputs": [
    {
     "data": {
      "text/plain": [
       "array([], dtype=object)"
      ]
     },
     "execution_count": 188,
     "metadata": {},
     "output_type": "execute_result"
    }
   ],
   "source": [
    "df_tudo[df_tudo['Produto'].str.contains('CDB')]['Produto'].unique()"
   ]
  },
  {
   "cell_type": "code",
   "execution_count": 162,
   "id": "cd271f93",
   "metadata": {},
   "outputs": [
    {
     "name": "stdout",
     "output_type": "stream",
     "text": [
      "<class 'pandas.core.frame.DataFrame'>\n",
      "RangeIndex: 363 entries, 0 to 362\n",
      "Data columns (total 11 columns):\n",
      " #   Column             Non-Null Count  Dtype  \n",
      "---  ------             --------------  -----  \n",
      " 0   Entrada/Saída      363 non-null    object \n",
      " 1   Data               363 non-null    object \n",
      " 2   Movimentação       363 non-null    object \n",
      " 3   Ticker             363 non-null    object \n",
      " 4   Descrição          363 non-null    object \n",
      " 5   Instituição        363 non-null    object \n",
      " 6   Quantidade         363 non-null    float64\n",
      " 7   Preço unitário     363 non-null    float64\n",
      " 8   Valor da Operação  363 non-null    float64\n",
      " 9   Tipo de Ativo      363 non-null    object \n",
      " 10  Compra/Venda       363 non-null    bool   \n",
      "dtypes: bool(1), float64(3), object(7)\n",
      "memory usage: 28.8+ KB\n"
     ]
    }
   ],
   "source": [
    "df_tudo = preprocessar_dados_b3(df_tudo)\n",
    "df_tudo = df_tudo.sort_values(by=['Ticker'], ascending=True)"
   ]
  },
  {
   "cell_type": "code",
   "execution_count": 163,
   "id": "573e5b37",
   "metadata": {},
   "outputs": [
    {
     "data": {
      "text/plain": [
       "array(['BBAS3', 'BCFF11', 'BCFF12', 'BIDI4', 'BTHF11', 'BTLG11', 'CVCB1',\n",
       "       'CVCB3', 'HCTR11', 'HCTR12', 'HGLG11', 'ITSA4', 'ITUB4', 'KNRI11',\n",
       "       'LWSA3', 'MGLU3', 'MXRF11', 'MXRF12', 'OIBR3', 'PETR4', 'PGMN3',\n",
       "       'RBVA11', 'VGHF11', 'VGHF12', 'VISC11', 'VVAR3', 'XPLG11',\n",
       "       'XPML11', 'XPML12'], dtype=object)"
      ]
     },
     "execution_count": 163,
     "metadata": {},
     "output_type": "execute_result"
    }
   ],
   "source": [
    "df_tudo['Ticker'].unique()"
   ]
  },
  {
   "cell_type": "code",
   "execution_count": 164,
   "id": "e176c9f9",
   "metadata": {},
   "outputs": [
    {
     "data": {
      "text/plain": [
       "array(['BBAS3', 'BTHF11', 'BCFF12', 'BIDI4', 'BTLG11', 'CVCB1', 'CVCB3',\n",
       "       'HCTR11', 'HCTR12', 'HGLG11', 'ITSA4', 'ITUB4', 'KNRI11', 'LWSA3',\n",
       "       'MGLU3', 'MXRF11', 'MXRF12', 'OIBR3', 'PETR4', 'PGMN3', 'RBVA11',\n",
       "       'VGHF11', 'VGHF12', 'VISC11', 'VVAR3', 'XPLG11', 'XPML11',\n",
       "       'XPML12'], dtype=object)"
      ]
     },
     "execution_count": 164,
     "metadata": {},
     "output_type": "execute_result"
    }
   ],
   "source": [
    "df_tudo = ajustar_movimentacoes_por_eventos(df_tudo, df_fusoes)\n",
    "df_tudo['Ticker'].unique()"
   ]
  },
  {
   "cell_type": "code",
   "execution_count": 165,
   "id": "2d6f093f",
   "metadata": {},
   "outputs": [
    {
     "data": {
      "text/plain": [
       "np.float64(53352.06999999999)"
      ]
     },
     "execution_count": 165,
     "metadata": {},
     "output_type": "execute_result"
    }
   ],
   "source": [
    "df_tudo['Valor da Operação'].sum()"
   ]
  },
  {
   "cell_type": "code",
   "execution_count": 175,
   "id": "c6692da1",
   "metadata": {},
   "outputs": [
    {
     "data": {
      "text/plain": [
       "array(['Transferência - Liquidação', 'Rendimento',\n",
       "       'Juros Sobre Capital Próprio', 'Dividendo', 'Atualização',\n",
       "       'Resgate', 'Cessão de Direitos', 'Cessão de Direitos - Solicitada',\n",
       "       'Direito de Subscrição', 'Direitos de Subscrição - Não Exercido',\n",
       "       'Desdobro', 'Transferência', 'Fração em Ativos',\n",
       "       'Leilão de Fração'], dtype=object)"
      ]
     },
     "execution_count": 175,
     "metadata": {},
     "output_type": "execute_result"
    }
   ],
   "source": [
    "df_tudo['Movimentação'].unique()"
   ]
  },
  {
   "cell_type": "markdown",
   "id": "6a4b6362",
   "metadata": {},
   "source": [
    "## Filtrando FII na planilha completa"
   ]
  },
  {
   "cell_type": "code",
   "execution_count": 166,
   "id": "b58062d0",
   "metadata": {},
   "outputs": [],
   "source": [
    "def filtrar_fii(df: pd.DataFrame) -> pd.DataFrame:\n",
    "\n",
    "    colunas_necessarias = ['Tipo de Ativo', 'Compra/Venda']\n",
    "    if not all(col in df.columns for col in colunas_necessarias):\n",
    "        return df\n",
    "\n",
    "    filtro = (df['Tipo de Ativo'] == 'FII') & (df['Compra/Venda'])\n",
    "    df_filtrado = df[filtro]\n",
    "    return df_filtrado"
   ]
  },
  {
   "cell_type": "code",
   "execution_count": 167,
   "id": "40152a38",
   "metadata": {},
   "outputs": [],
   "source": [
    "df_tudo_filtrado = filtrar_fii(df_tudo)"
   ]
  },
  {
   "cell_type": "markdown",
   "id": "91c52aa4",
   "metadata": {},
   "source": [
    "## Validando o Resultado"
   ]
  },
  {
   "cell_type": "code",
   "execution_count": 180,
   "id": "15626346",
   "metadata": {},
   "outputs": [
    {
     "data": {
      "text/plain": [
       "array(['BTHF11', 'BTLG11', 'HCTR11', 'HGLG11', 'KNRI11', 'MXRF11',\n",
       "       'RBVA11', 'VGHF11', 'VISC11', 'XPLG11', 'XPML11'], dtype=object)"
      ]
     },
     "execution_count": 180,
     "metadata": {},
     "output_type": "execute_result"
    }
   ],
   "source": [
    "df_tudo[df_tudo['Ticker'].str.endswith('11')]['Ticker'].unique()"
   ]
  },
  {
   "cell_type": "code",
   "execution_count": 181,
   "id": "86a941cb",
   "metadata": {},
   "outputs": [
    {
     "data": {
      "text/plain": [
       "array(['BBAS3', 'BIDI4', 'CVCB3', 'ITSA4', 'ITUB4', 'LWSA3', 'MGLU3',\n",
       "       'OIBR3', 'PETR4', 'PGMN3', 'VVAR3'], dtype=object)"
      ]
     },
     "execution_count": 181,
     "metadata": {},
     "output_type": "execute_result"
    }
   ],
   "source": [
    "df_tudo[df_tudo['Ticker'].str.endswith(('3', '4', '5', '6'))]['Ticker'].unique()"
   ]
  },
  {
   "cell_type": "code",
   "execution_count": null,
   "id": "3cbe9d75",
   "metadata": {},
   "outputs": [
    {
     "data": {
      "text/plain": [
       "array([], dtype=object)"
      ]
     },
     "execution_count": 184,
     "metadata": {},
     "output_type": "execute_result"
    }
   ],
   "source": []
  },
  {
   "cell_type": "code",
   "execution_count": 168,
   "id": "2e99734e",
   "metadata": {},
   "outputs": [
    {
     "name": "stdout",
     "output_type": "stream",
     "text": [
      "<class 'pandas.core.frame.DataFrame'>\n",
      "Index: 60 entries, 19 to 343\n",
      "Data columns (total 11 columns):\n",
      " #   Column             Non-Null Count  Dtype  \n",
      "---  ------             --------------  -----  \n",
      " 0   Entrada/Saída      60 non-null     object \n",
      " 1   Data               60 non-null     object \n",
      " 2   Movimentação       60 non-null     object \n",
      " 3   Ticker             60 non-null     object \n",
      " 4   Descrição          60 non-null     object \n",
      " 5   Instituição        60 non-null     object \n",
      " 6   Quantidade         60 non-null     float64\n",
      " 7   Preço unitário     60 non-null     float64\n",
      " 8   Valor da Operação  60 non-null     float64\n",
      " 9   Tipo de Ativo      60 non-null     object \n",
      " 10  Compra/Venda       60 non-null     bool   \n",
      "dtypes: bool(1), float64(3), object(7)\n",
      "memory usage: 5.2+ KB\n"
     ]
    }
   ],
   "source": [
    "df_tudo_filtrado.info()"
   ]
  },
  {
   "cell_type": "code",
   "execution_count": 169,
   "id": "5c80c694",
   "metadata": {},
   "outputs": [
    {
     "data": {
      "text/plain": [
       "array(['BTHF11', 'BTLG11', 'HCTR11', 'HGLG11', 'KNRI11', 'MXRF11',\n",
       "       'RBVA11', 'VGHF11', 'VISC11', 'XPLG11', 'XPML11'], dtype=object)"
      ]
     },
     "execution_count": 169,
     "metadata": {},
     "output_type": "execute_result"
    }
   ],
   "source": [
    "df_tudo_filtrado['Ticker'].unique()"
   ]
  },
  {
   "cell_type": "code",
   "execution_count": 170,
   "id": "2dfa4631",
   "metadata": {},
   "outputs": [
    {
     "data": {
      "text/plain": [
       "np.float64(44735.06)"
      ]
     },
     "execution_count": 170,
     "metadata": {},
     "output_type": "execute_result"
    }
   ],
   "source": [
    "df_tudo_filtrado['Valor da Operação'].sum()"
   ]
  },
  {
   "cell_type": "code",
   "execution_count": 171,
   "id": "22fec002",
   "metadata": {},
   "outputs": [
    {
     "data": {
      "text/html": [
       "<div>\n",
       "<style scoped>\n",
       "    .dataframe tbody tr th:only-of-type {\n",
       "        vertical-align: middle;\n",
       "    }\n",
       "\n",
       "    .dataframe tbody tr th {\n",
       "        vertical-align: top;\n",
       "    }\n",
       "\n",
       "    .dataframe thead th {\n",
       "        text-align: right;\n",
       "    }\n",
       "</style>\n",
       "<table border=\"1\" class=\"dataframe\">\n",
       "  <thead>\n",
       "    <tr style=\"text-align: right;\">\n",
       "      <th></th>\n",
       "      <th>Ticker</th>\n",
       "      <th>Descrição</th>\n",
       "      <th>Tipo de Ativo</th>\n",
       "    </tr>\n",
       "  </thead>\n",
       "  <tbody>\n",
       "    <tr>\n",
       "      <th>19</th>\n",
       "      <td>BTHF11</td>\n",
       "      <td>FDO INV IMOB - FII BTG PACTUAL FUNDO DE FUNDOS</td>\n",
       "      <td>FII</td>\n",
       "    </tr>\n",
       "    <tr>\n",
       "      <th>32</th>\n",
       "      <td>BTHF11</td>\n",
       "      <td>FII - FII BTG PACTUAL FUNDO DE FUNDOS RESPONS ...</td>\n",
       "      <td>FII</td>\n",
       "    </tr>\n",
       "    <tr>\n",
       "      <th>77</th>\n",
       "      <td>BTLG11</td>\n",
       "      <td>BTG PACTUAL LOGISTICA FUNDO DE INVESTIMENTO IM...</td>\n",
       "      <td>FII</td>\n",
       "    </tr>\n",
       "    <tr>\n",
       "      <th>88</th>\n",
       "      <td>HCTR11</td>\n",
       "      <td>HECTARE CE - FDO INV IMOB</td>\n",
       "      <td>FII</td>\n",
       "    </tr>\n",
       "    <tr>\n",
       "      <th>89</th>\n",
       "      <td>HCTR11</td>\n",
       "      <td>HECTARE CE - FUNDO DE INVESTIMENTO IMOBILIÁRIO</td>\n",
       "      <td>FII</td>\n",
       "    </tr>\n",
       "    <tr>\n",
       "      <th>92</th>\n",
       "      <td>HGLG11</td>\n",
       "      <td>CSHG LOGÍSTICA FDO INV IMOB - FII</td>\n",
       "      <td>FII</td>\n",
       "    </tr>\n",
       "    <tr>\n",
       "      <th>136</th>\n",
       "      <td>KNRI11</td>\n",
       "      <td>KINEA RENDA IMOBILIÁRIA FDO INV IMOB - FII</td>\n",
       "      <td>FII</td>\n",
       "    </tr>\n",
       "    <tr>\n",
       "      <th>153</th>\n",
       "      <td>MXRF11</td>\n",
       "      <td>MAXI RENDA FUNDO DE INVESTIMENTO IMOBILIARIO -...</td>\n",
       "      <td>FII</td>\n",
       "    </tr>\n",
       "    <tr>\n",
       "      <th>170</th>\n",
       "      <td>MXRF11</td>\n",
       "      <td>MAXI RENDA FDO INV IMOB - FII</td>\n",
       "      <td>FII</td>\n",
       "    </tr>\n",
       "    <tr>\n",
       "      <th>242</th>\n",
       "      <td>RBVA11</td>\n",
       "      <td>FDO INV IMOB RIO BRAVO RENDA VAREJO - FII</td>\n",
       "      <td>FII</td>\n",
       "    </tr>\n",
       "    <tr>\n",
       "      <th>258</th>\n",
       "      <td>VGHF11</td>\n",
       "      <td>VALORA HEDGE FUND FUNDO DE INVESTIMENTO IMOBIL...</td>\n",
       "      <td>FII</td>\n",
       "    </tr>\n",
       "    <tr>\n",
       "      <th>292</th>\n",
       "      <td>VISC11</td>\n",
       "      <td>VINCI SHOPPING CENTERS FDO INVEST IMOB - FII</td>\n",
       "      <td>FII</td>\n",
       "    </tr>\n",
       "    <tr>\n",
       "      <th>301</th>\n",
       "      <td>XPLG11</td>\n",
       "      <td>XP LOG FUNDO DE INVESTIMENTO IMOBILIARIO FII</td>\n",
       "      <td>FII</td>\n",
       "    </tr>\n",
       "    <tr>\n",
       "      <th>331</th>\n",
       "      <td>XPML11</td>\n",
       "      <td>XP MALLS FDO INV IMOB FII</td>\n",
       "      <td>FII</td>\n",
       "    </tr>\n",
       "  </tbody>\n",
       "</table>\n",
       "</div>"
      ],
      "text/plain": [
       "     Ticker                                          Descrição Tipo de Ativo\n",
       "19   BTHF11     FDO INV IMOB - FII BTG PACTUAL FUNDO DE FUNDOS           FII\n",
       "32   BTHF11  FII - FII BTG PACTUAL FUNDO DE FUNDOS RESPONS ...           FII\n",
       "77   BTLG11  BTG PACTUAL LOGISTICA FUNDO DE INVESTIMENTO IM...           FII\n",
       "88   HCTR11                          HECTARE CE - FDO INV IMOB           FII\n",
       "89   HCTR11     HECTARE CE - FUNDO DE INVESTIMENTO IMOBILIÁRIO           FII\n",
       "92   HGLG11                  CSHG LOGÍSTICA FDO INV IMOB - FII           FII\n",
       "136  KNRI11         KINEA RENDA IMOBILIÁRIA FDO INV IMOB - FII           FII\n",
       "153  MXRF11  MAXI RENDA FUNDO DE INVESTIMENTO IMOBILIARIO -...           FII\n",
       "170  MXRF11                      MAXI RENDA FDO INV IMOB - FII           FII\n",
       "242  RBVA11          FDO INV IMOB RIO BRAVO RENDA VAREJO - FII           FII\n",
       "258  VGHF11  VALORA HEDGE FUND FUNDO DE INVESTIMENTO IMOBIL...           FII\n",
       "292  VISC11       VINCI SHOPPING CENTERS FDO INVEST IMOB - FII           FII\n",
       "301  XPLG11       XP LOG FUNDO DE INVESTIMENTO IMOBILIARIO FII           FII\n",
       "331  XPML11                          XP MALLS FDO INV IMOB FII           FII"
      ]
     },
     "execution_count": 171,
     "metadata": {},
     "output_type": "execute_result"
    }
   ],
   "source": [
    "df_tudo_filtrado[['Ticker','Descrição','Tipo de Ativo']].drop_duplicates()\n"
   ]
  },
  {
   "cell_type": "code",
   "execution_count": 172,
   "id": "e9fe3f4f",
   "metadata": {},
   "outputs": [
    {
     "data": {
      "text/plain": [
       "np.float64(9197.33)"
      ]
     },
     "execution_count": 172,
     "metadata": {},
     "output_type": "execute_result"
    }
   ],
   "source": [
    "df_teste_valor_tudo_filtrado = df_tudo_filtrado[df_tudo_filtrado['Ticker'].isin(['BCFF11','BTHF11'])]\n",
    "df_teste_valor_tudo_filtrado['Valor da Operação'].sum()"
   ]
  },
  {
   "cell_type": "code",
   "execution_count": 173,
   "id": "2839e812",
   "metadata": {},
   "outputs": [
    {
     "data": {
      "text/plain": [
       "(11, 11)"
      ]
     },
     "execution_count": 173,
     "metadata": {},
     "output_type": "execute_result"
    }
   ],
   "source": [
    "df_teste_valor_tudo_filtrado.shape"
   ]
  },
  {
   "cell_type": "code",
   "execution_count": 174,
   "id": "f19f039d",
   "metadata": {},
   "outputs": [
    {
     "data": {
      "text/plain": [
       "array(['Transferência - Liquidação'], dtype=object)"
      ]
     },
     "execution_count": 174,
     "metadata": {},
     "output_type": "execute_result"
    }
   ],
   "source": [
    "df_teste_valor_tudo_filtrado['Movimentação'].unique()"
   ]
  }
 ],
 "metadata": {
  "kernelspec": {
   "display_name": ".venv",
   "language": "python",
   "name": "python3"
  },
  "language_info": {
   "codemirror_mode": {
    "name": "ipython",
    "version": 3
   },
   "file_extension": ".py",
   "mimetype": "text/x-python",
   "name": "python",
   "nbconvert_exporter": "python",
   "pygments_lexer": "ipython3",
   "version": "3.12.10"
  }
 },
 "nbformat": 4,
 "nbformat_minor": 5
}
